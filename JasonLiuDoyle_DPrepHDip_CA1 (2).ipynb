{
 "cells": [
  {
   "cell_type": "code",
   "execution_count": 3,
   "id": "a13cc021-eed6-4554-8bcd-568a243993b6",
   "metadata": {},
   "outputs": [],
   "source": [
    "import pandas as pd\n",
    "import seaborn as sns"
   ]
  },
  {
   "cell_type": "code",
   "execution_count": 4,
   "id": "d27b4235-d5a7-4ca9-b219-bf72be7f3631",
   "metadata": {},
   "outputs": [],
   "source": [
    "df = pd.read_csv('/Users/jason/Desktop/CCT/Data Prep/CA1_Materials/student_data (1).csv')"
   ]
  },
  {
   "cell_type": "markdown",
   "id": "57117666-2e6b-4456-ab90-aa0ecbb94550",
   "metadata": {},
   "source": [
    "File size is 533,190 bytes (537 KB on disk) which means...."
   ]
  },
  {
   "cell_type": "code",
   "execution_count": 5,
   "id": "1e98fa89-2971-4225-98ac-32b6776ada6e",
   "metadata": {},
   "outputs": [],
   "source": [
    "pd.set_option('display.max_columns', None)"
   ]
  },
  {
   "cell_type": "markdown",
   "id": "5226b3ff-b17a-4873-8f35-e6103833aa86",
   "metadata": {},
   "source": [
    "I prefer this as it allows me to get a better impression of the Dataset"
   ]
  },
  {
   "cell_type": "code",
   "execution_count": 6,
   "id": "5f110d15-8044-4e66-a3e9-5726b2f93bc1",
   "metadata": {},
   "outputs": [
    {
     "data": {
      "text/html": [
       "<div>\n",
       "<style scoped>\n",
       "    .dataframe tbody tr th:only-of-type {\n",
       "        vertical-align: middle;\n",
       "    }\n",
       "\n",
       "    .dataframe tbody tr th {\n",
       "        vertical-align: top;\n",
       "    }\n",
       "\n",
       "    .dataframe thead th {\n",
       "        text-align: right;\n",
       "    }\n",
       "</style>\n",
       "<table border=\"1\" class=\"dataframe\">\n",
       "  <thead>\n",
       "    <tr style=\"text-align: right;\">\n",
       "      <th></th>\n",
       "      <th>Marital status</th>\n",
       "      <th>Application mode</th>\n",
       "      <th>Application order</th>\n",
       "      <th>Course</th>\n",
       "      <th>Daytime/evening attendance</th>\n",
       "      <th>Previous qualification</th>\n",
       "      <th>Previous qualification (grade)</th>\n",
       "      <th>Nacionality</th>\n",
       "      <th>Mother's qualification</th>\n",
       "      <th>Father's qualification</th>\n",
       "      <th>Mother's occupation</th>\n",
       "      <th>Father's occupation</th>\n",
       "      <th>Admission grade</th>\n",
       "      <th>Displaced</th>\n",
       "      <th>Educational special needs</th>\n",
       "      <th>Debtor</th>\n",
       "      <th>Tuition fees up to date</th>\n",
       "      <th>Gender</th>\n",
       "      <th>Scholarship holder</th>\n",
       "      <th>Age at enrollment</th>\n",
       "      <th>International</th>\n",
       "      <th>Curricular units 1st sem (credited)</th>\n",
       "      <th>Curricular units 1st sem (enrolled)</th>\n",
       "      <th>Curricular units 1st sem (evaluations)</th>\n",
       "      <th>Curricular units 1st sem (approved)</th>\n",
       "      <th>Curricular units 1st sem (grade)</th>\n",
       "      <th>Curricular units 1st sem (without evaluations)</th>\n",
       "      <th>Curricular units 2nd sem (credited)</th>\n",
       "      <th>Curricular units 2nd sem (enrolled)</th>\n",
       "      <th>Curricular units 2nd sem (evaluations)</th>\n",
       "      <th>Curricular units 2nd sem (approved)</th>\n",
       "      <th>Curricular units 2nd sem (grade)</th>\n",
       "      <th>Curricular units 2nd sem (without evaluations)</th>\n",
       "      <th>Unemployment rate</th>\n",
       "      <th>Inflation rate</th>\n",
       "      <th>GDP</th>\n",
       "      <th>Target</th>\n",
       "    </tr>\n",
       "  </thead>\n",
       "  <tbody>\n",
       "    <tr>\n",
       "      <th>0</th>\n",
       "      <td>1</td>\n",
       "      <td>17</td>\n",
       "      <td>5</td>\n",
       "      <td>171.0</td>\n",
       "      <td>1</td>\n",
       "      <td>1</td>\n",
       "      <td>122.0</td>\n",
       "      <td>1</td>\n",
       "      <td>19</td>\n",
       "      <td>12.0</td>\n",
       "      <td>5</td>\n",
       "      <td>9</td>\n",
       "      <td>127.3</td>\n",
       "      <td>1</td>\n",
       "      <td>0</td>\n",
       "      <td>0.0</td>\n",
       "      <td>1</td>\n",
       "      <td>1</td>\n",
       "      <td>0</td>\n",
       "      <td>20</td>\n",
       "      <td>0.0</td>\n",
       "      <td>0</td>\n",
       "      <td>0</td>\n",
       "      <td>0</td>\n",
       "      <td>0</td>\n",
       "      <td>0.000000</td>\n",
       "      <td>0</td>\n",
       "      <td>0</td>\n",
       "      <td>0.0</td>\n",
       "      <td>0</td>\n",
       "      <td>0</td>\n",
       "      <td>0.000000</td>\n",
       "      <td>0</td>\n",
       "      <td>10.8</td>\n",
       "      <td>1.4</td>\n",
       "      <td>1.74</td>\n",
       "      <td>Dropout</td>\n",
       "    </tr>\n",
       "    <tr>\n",
       "      <th>1</th>\n",
       "      <td>1</td>\n",
       "      <td>15</td>\n",
       "      <td>1</td>\n",
       "      <td>9254.0</td>\n",
       "      <td>1</td>\n",
       "      <td>1</td>\n",
       "      <td>160.0</td>\n",
       "      <td>1</td>\n",
       "      <td>1</td>\n",
       "      <td>3.0</td>\n",
       "      <td>3</td>\n",
       "      <td>3</td>\n",
       "      <td>142.5</td>\n",
       "      <td>1</td>\n",
       "      <td>0</td>\n",
       "      <td>0.0</td>\n",
       "      <td>0</td>\n",
       "      <td>1</td>\n",
       "      <td>0</td>\n",
       "      <td>19</td>\n",
       "      <td>0.0</td>\n",
       "      <td>0</td>\n",
       "      <td>6</td>\n",
       "      <td>6</td>\n",
       "      <td>6</td>\n",
       "      <td>14.000000</td>\n",
       "      <td>0</td>\n",
       "      <td>0</td>\n",
       "      <td>6.0</td>\n",
       "      <td>6</td>\n",
       "      <td>6</td>\n",
       "      <td>13.666667</td>\n",
       "      <td>0</td>\n",
       "      <td>13.9</td>\n",
       "      <td>-0.3</td>\n",
       "      <td>0.79</td>\n",
       "      <td>Graduate</td>\n",
       "    </tr>\n",
       "    <tr>\n",
       "      <th>2</th>\n",
       "      <td>1</td>\n",
       "      <td>1</td>\n",
       "      <td>5</td>\n",
       "      <td>9070.0</td>\n",
       "      <td>1</td>\n",
       "      <td>1</td>\n",
       "      <td>122.0</td>\n",
       "      <td>1</td>\n",
       "      <td>37</td>\n",
       "      <td>37.0</td>\n",
       "      <td>9</td>\n",
       "      <td>9</td>\n",
       "      <td>124.8</td>\n",
       "      <td>1</td>\n",
       "      <td>0</td>\n",
       "      <td>0.0</td>\n",
       "      <td>0</td>\n",
       "      <td>1</td>\n",
       "      <td>0</td>\n",
       "      <td>19</td>\n",
       "      <td>0.0</td>\n",
       "      <td>0</td>\n",
       "      <td>6</td>\n",
       "      <td>0</td>\n",
       "      <td>0</td>\n",
       "      <td>0.000000</td>\n",
       "      <td>0</td>\n",
       "      <td>0</td>\n",
       "      <td>6.0</td>\n",
       "      <td>0</td>\n",
       "      <td>0</td>\n",
       "      <td>0.000000</td>\n",
       "      <td>0</td>\n",
       "      <td>10.8</td>\n",
       "      <td>1.4</td>\n",
       "      <td>1.74</td>\n",
       "      <td>Dropout</td>\n",
       "    </tr>\n",
       "    <tr>\n",
       "      <th>3</th>\n",
       "      <td>1</td>\n",
       "      <td>17</td>\n",
       "      <td>2</td>\n",
       "      <td>9773.0</td>\n",
       "      <td>1</td>\n",
       "      <td>1</td>\n",
       "      <td>122.0</td>\n",
       "      <td>1</td>\n",
       "      <td>38</td>\n",
       "      <td>37.0</td>\n",
       "      <td>5</td>\n",
       "      <td>3</td>\n",
       "      <td>119.6</td>\n",
       "      <td>1</td>\n",
       "      <td>0</td>\n",
       "      <td>0.0</td>\n",
       "      <td>1</td>\n",
       "      <td>0</td>\n",
       "      <td>0</td>\n",
       "      <td>20</td>\n",
       "      <td>0.0</td>\n",
       "      <td>0</td>\n",
       "      <td>6</td>\n",
       "      <td>8</td>\n",
       "      <td>6</td>\n",
       "      <td>13.428571</td>\n",
       "      <td>0</td>\n",
       "      <td>0</td>\n",
       "      <td>6.0</td>\n",
       "      <td>10</td>\n",
       "      <td>5</td>\n",
       "      <td>12.400000</td>\n",
       "      <td>0</td>\n",
       "      <td>9.4</td>\n",
       "      <td>-0.8</td>\n",
       "      <td>-3.12</td>\n",
       "      <td>Graduate</td>\n",
       "    </tr>\n",
       "    <tr>\n",
       "      <th>4</th>\n",
       "      <td>2</td>\n",
       "      <td>39</td>\n",
       "      <td>1</td>\n",
       "      <td>8014.0</td>\n",
       "      <td>0</td>\n",
       "      <td>1</td>\n",
       "      <td>100.0</td>\n",
       "      <td>1</td>\n",
       "      <td>37</td>\n",
       "      <td>38.0</td>\n",
       "      <td>9</td>\n",
       "      <td>9</td>\n",
       "      <td>141.5</td>\n",
       "      <td>0</td>\n",
       "      <td>0</td>\n",
       "      <td>0.0</td>\n",
       "      <td>1</td>\n",
       "      <td>0</td>\n",
       "      <td>0</td>\n",
       "      <td>45</td>\n",
       "      <td>0.0</td>\n",
       "      <td>0</td>\n",
       "      <td>6</td>\n",
       "      <td>9</td>\n",
       "      <td>5</td>\n",
       "      <td>12.333333</td>\n",
       "      <td>0</td>\n",
       "      <td>0</td>\n",
       "      <td>6.0</td>\n",
       "      <td>6</td>\n",
       "      <td>6</td>\n",
       "      <td>13.000000</td>\n",
       "      <td>0</td>\n",
       "      <td>13.9</td>\n",
       "      <td>-0.3</td>\n",
       "      <td>0.79</td>\n",
       "      <td>Graduate</td>\n",
       "    </tr>\n",
       "    <tr>\n",
       "      <th>...</th>\n",
       "      <td>...</td>\n",
       "      <td>...</td>\n",
       "      <td>...</td>\n",
       "      <td>...</td>\n",
       "      <td>...</td>\n",
       "      <td>...</td>\n",
       "      <td>...</td>\n",
       "      <td>...</td>\n",
       "      <td>...</td>\n",
       "      <td>...</td>\n",
       "      <td>...</td>\n",
       "      <td>...</td>\n",
       "      <td>...</td>\n",
       "      <td>...</td>\n",
       "      <td>...</td>\n",
       "      <td>...</td>\n",
       "      <td>...</td>\n",
       "      <td>...</td>\n",
       "      <td>...</td>\n",
       "      <td>...</td>\n",
       "      <td>...</td>\n",
       "      <td>...</td>\n",
       "      <td>...</td>\n",
       "      <td>...</td>\n",
       "      <td>...</td>\n",
       "      <td>...</td>\n",
       "      <td>...</td>\n",
       "      <td>...</td>\n",
       "      <td>...</td>\n",
       "      <td>...</td>\n",
       "      <td>...</td>\n",
       "      <td>...</td>\n",
       "      <td>...</td>\n",
       "      <td>...</td>\n",
       "      <td>...</td>\n",
       "      <td>...</td>\n",
       "      <td>...</td>\n",
       "    </tr>\n",
       "    <tr>\n",
       "      <th>4419</th>\n",
       "      <td>1</td>\n",
       "      <td>1</td>\n",
       "      <td>6</td>\n",
       "      <td>9773.0</td>\n",
       "      <td>1</td>\n",
       "      <td>1</td>\n",
       "      <td>125.0</td>\n",
       "      <td>1</td>\n",
       "      <td>1</td>\n",
       "      <td>1.0</td>\n",
       "      <td>5</td>\n",
       "      <td>4</td>\n",
       "      <td>122.2</td>\n",
       "      <td>0</td>\n",
       "      <td>0</td>\n",
       "      <td>0.0</td>\n",
       "      <td>1</td>\n",
       "      <td>1</td>\n",
       "      <td>0</td>\n",
       "      <td>19</td>\n",
       "      <td>0.0</td>\n",
       "      <td>0</td>\n",
       "      <td>6</td>\n",
       "      <td>7</td>\n",
       "      <td>5</td>\n",
       "      <td>13.600000</td>\n",
       "      <td>0</td>\n",
       "      <td>0</td>\n",
       "      <td>6.0</td>\n",
       "      <td>8</td>\n",
       "      <td>5</td>\n",
       "      <td>12.666667</td>\n",
       "      <td>0</td>\n",
       "      <td>15.5</td>\n",
       "      <td>2.8</td>\n",
       "      <td>-4.06</td>\n",
       "      <td>Graduate</td>\n",
       "    </tr>\n",
       "    <tr>\n",
       "      <th>4420</th>\n",
       "      <td>1</td>\n",
       "      <td>1</td>\n",
       "      <td>2</td>\n",
       "      <td>9773.0</td>\n",
       "      <td>1</td>\n",
       "      <td>1</td>\n",
       "      <td>120.0</td>\n",
       "      <td>105</td>\n",
       "      <td>1</td>\n",
       "      <td>1.0</td>\n",
       "      <td>9</td>\n",
       "      <td>9</td>\n",
       "      <td>119.0</td>\n",
       "      <td>1</td>\n",
       "      <td>0</td>\n",
       "      <td>1.0</td>\n",
       "      <td>0</td>\n",
       "      <td>0</td>\n",
       "      <td>0</td>\n",
       "      <td>18</td>\n",
       "      <td>1.0</td>\n",
       "      <td>0</td>\n",
       "      <td>6</td>\n",
       "      <td>6</td>\n",
       "      <td>6</td>\n",
       "      <td>12.000000</td>\n",
       "      <td>0</td>\n",
       "      <td>0</td>\n",
       "      <td>6.0</td>\n",
       "      <td>6</td>\n",
       "      <td>2</td>\n",
       "      <td>11.000000</td>\n",
       "      <td>0</td>\n",
       "      <td>11.1</td>\n",
       "      <td>0.6</td>\n",
       "      <td>2.02</td>\n",
       "      <td>Dropout</td>\n",
       "    </tr>\n",
       "    <tr>\n",
       "      <th>4421</th>\n",
       "      <td>1</td>\n",
       "      <td>1</td>\n",
       "      <td>1</td>\n",
       "      <td>9500.0</td>\n",
       "      <td>1</td>\n",
       "      <td>1</td>\n",
       "      <td>154.0</td>\n",
       "      <td>1</td>\n",
       "      <td>37</td>\n",
       "      <td>37.0</td>\n",
       "      <td>9</td>\n",
       "      <td>9</td>\n",
       "      <td>149.5</td>\n",
       "      <td>1</td>\n",
       "      <td>0</td>\n",
       "      <td>0.0</td>\n",
       "      <td>1</td>\n",
       "      <td>0</td>\n",
       "      <td>1</td>\n",
       "      <td>30</td>\n",
       "      <td>0.0</td>\n",
       "      <td>0</td>\n",
       "      <td>7</td>\n",
       "      <td>8</td>\n",
       "      <td>7</td>\n",
       "      <td>14.912500</td>\n",
       "      <td>0</td>\n",
       "      <td>0</td>\n",
       "      <td>8.0</td>\n",
       "      <td>9</td>\n",
       "      <td>1</td>\n",
       "      <td>13.500000</td>\n",
       "      <td>0</td>\n",
       "      <td>13.9</td>\n",
       "      <td>-0.3</td>\n",
       "      <td>0.79</td>\n",
       "      <td>Dropout</td>\n",
       "    </tr>\n",
       "    <tr>\n",
       "      <th>4422</th>\n",
       "      <td>1</td>\n",
       "      <td>1</td>\n",
       "      <td>1</td>\n",
       "      <td>9147.0</td>\n",
       "      <td>1</td>\n",
       "      <td>1</td>\n",
       "      <td>180.0</td>\n",
       "      <td>1</td>\n",
       "      <td>37</td>\n",
       "      <td>37.0</td>\n",
       "      <td>7</td>\n",
       "      <td>4</td>\n",
       "      <td>153.8</td>\n",
       "      <td>1</td>\n",
       "      <td>0</td>\n",
       "      <td>0.0</td>\n",
       "      <td>1</td>\n",
       "      <td>0</td>\n",
       "      <td>1</td>\n",
       "      <td>20</td>\n",
       "      <td>0.0</td>\n",
       "      <td>0</td>\n",
       "      <td>5</td>\n",
       "      <td>5</td>\n",
       "      <td>5</td>\n",
       "      <td>13.800000</td>\n",
       "      <td>0</td>\n",
       "      <td>0</td>\n",
       "      <td>5.0</td>\n",
       "      <td>6</td>\n",
       "      <td>5</td>\n",
       "      <td>12.000000</td>\n",
       "      <td>0</td>\n",
       "      <td>9.4</td>\n",
       "      <td>-0.8</td>\n",
       "      <td>-3.12</td>\n",
       "      <td>Graduate</td>\n",
       "    </tr>\n",
       "    <tr>\n",
       "      <th>4423</th>\n",
       "      <td>1</td>\n",
       "      <td>10</td>\n",
       "      <td>1</td>\n",
       "      <td>9773.0</td>\n",
       "      <td>1</td>\n",
       "      <td>1</td>\n",
       "      <td>152.0</td>\n",
       "      <td>22</td>\n",
       "      <td>38</td>\n",
       "      <td>37.0</td>\n",
       "      <td>5</td>\n",
       "      <td>9</td>\n",
       "      <td>152.0</td>\n",
       "      <td>1</td>\n",
       "      <td>0</td>\n",
       "      <td>0.0</td>\n",
       "      <td>1</td>\n",
       "      <td>0</td>\n",
       "      <td>0</td>\n",
       "      <td>22</td>\n",
       "      <td>1.0</td>\n",
       "      <td>0</td>\n",
       "      <td>6</td>\n",
       "      <td>8</td>\n",
       "      <td>6</td>\n",
       "      <td>11.666667</td>\n",
       "      <td>0</td>\n",
       "      <td>0</td>\n",
       "      <td>6.0</td>\n",
       "      <td>6</td>\n",
       "      <td>6</td>\n",
       "      <td>13.000000</td>\n",
       "      <td>0</td>\n",
       "      <td>12.7</td>\n",
       "      <td>3.7</td>\n",
       "      <td>-1.70</td>\n",
       "      <td>Graduate</td>\n",
       "    </tr>\n",
       "  </tbody>\n",
       "</table>\n",
       "<p>4424 rows × 37 columns</p>\n",
       "</div>"
      ],
      "text/plain": [
       "     Marital status  Application mode  Application order  Course  \\\n",
       "0                 1                17                  5   171.0   \n",
       "1                 1                15                  1  9254.0   \n",
       "2                 1                 1                  5  9070.0   \n",
       "3                 1                17                  2  9773.0   \n",
       "4                 2                39                  1  8014.0   \n",
       "...             ...               ...                ...     ...   \n",
       "4419              1                 1                  6  9773.0   \n",
       "4420              1                 1                  2  9773.0   \n",
       "4421              1                 1                  1  9500.0   \n",
       "4422              1                 1                  1  9147.0   \n",
       "4423              1                10                  1  9773.0   \n",
       "\n",
       "      Daytime/evening attendance  Previous qualification  \\\n",
       "0                              1                       1   \n",
       "1                              1                       1   \n",
       "2                              1                       1   \n",
       "3                              1                       1   \n",
       "4                              0                       1   \n",
       "...                          ...                     ...   \n",
       "4419                           1                       1   \n",
       "4420                           1                       1   \n",
       "4421                           1                       1   \n",
       "4422                           1                       1   \n",
       "4423                           1                       1   \n",
       "\n",
       "      Previous qualification (grade)  Nacionality  Mother's qualification  \\\n",
       "0                              122.0            1                      19   \n",
       "1                              160.0            1                       1   \n",
       "2                              122.0            1                      37   \n",
       "3                              122.0            1                      38   \n",
       "4                              100.0            1                      37   \n",
       "...                              ...          ...                     ...   \n",
       "4419                           125.0            1                       1   \n",
       "4420                           120.0          105                       1   \n",
       "4421                           154.0            1                      37   \n",
       "4422                           180.0            1                      37   \n",
       "4423                           152.0           22                      38   \n",
       "\n",
       "      Father's qualification  Mother's occupation  Father's occupation  \\\n",
       "0                       12.0                    5                    9   \n",
       "1                        3.0                    3                    3   \n",
       "2                       37.0                    9                    9   \n",
       "3                       37.0                    5                    3   \n",
       "4                       38.0                    9                    9   \n",
       "...                      ...                  ...                  ...   \n",
       "4419                     1.0                    5                    4   \n",
       "4420                     1.0                    9                    9   \n",
       "4421                    37.0                    9                    9   \n",
       "4422                    37.0                    7                    4   \n",
       "4423                    37.0                    5                    9   \n",
       "\n",
       "      Admission grade Displaced  Educational special needs  Debtor  \\\n",
       "0               127.3         1                          0     0.0   \n",
       "1               142.5         1                          0     0.0   \n",
       "2               124.8         1                          0     0.0   \n",
       "3               119.6         1                          0     0.0   \n",
       "4               141.5         0                          0     0.0   \n",
       "...               ...       ...                        ...     ...   \n",
       "4419            122.2         0                          0     0.0   \n",
       "4420            119.0         1                          0     1.0   \n",
       "4421            149.5         1                          0     0.0   \n",
       "4422            153.8         1                          0     0.0   \n",
       "4423            152.0         1                          0     0.0   \n",
       "\n",
       "     Tuition fees up to date  Gender  Scholarship holder Age at enrollment  \\\n",
       "0                          1       1                   0                20   \n",
       "1                          0       1                   0                19   \n",
       "2                          0       1                   0                19   \n",
       "3                          1       0                   0                20   \n",
       "4                          1       0                   0                45   \n",
       "...                      ...     ...                 ...               ...   \n",
       "4419                       1       1                   0                19   \n",
       "4420                       0       0                   0                18   \n",
       "4421                       1       0                   1                30   \n",
       "4422                       1       0                   1                20   \n",
       "4423                       1       0                   0                22   \n",
       "\n",
       "      International Curricular units 1st sem (credited)  \\\n",
       "0               0.0                                   0   \n",
       "1               0.0                                   0   \n",
       "2               0.0                                   0   \n",
       "3               0.0                                   0   \n",
       "4               0.0                                   0   \n",
       "...             ...                                 ...   \n",
       "4419            0.0                                   0   \n",
       "4420            1.0                                   0   \n",
       "4421            0.0                                   0   \n",
       "4422            0.0                                   0   \n",
       "4423            1.0                                   0   \n",
       "\n",
       "      Curricular units 1st sem (enrolled)  \\\n",
       "0                                       0   \n",
       "1                                       6   \n",
       "2                                       6   \n",
       "3                                       6   \n",
       "4                                       6   \n",
       "...                                   ...   \n",
       "4419                                    6   \n",
       "4420                                    6   \n",
       "4421                                    7   \n",
       "4422                                    5   \n",
       "4423                                    6   \n",
       "\n",
       "      Curricular units 1st sem (evaluations)  \\\n",
       "0                                          0   \n",
       "1                                          6   \n",
       "2                                          0   \n",
       "3                                          8   \n",
       "4                                          9   \n",
       "...                                      ...   \n",
       "4419                                       7   \n",
       "4420                                       6   \n",
       "4421                                       8   \n",
       "4422                                       5   \n",
       "4423                                       8   \n",
       "\n",
       "      Curricular units 1st sem (approved)  Curricular units 1st sem (grade)  \\\n",
       "0                                       0                          0.000000   \n",
       "1                                       6                         14.000000   \n",
       "2                                       0                          0.000000   \n",
       "3                                       6                         13.428571   \n",
       "4                                       5                         12.333333   \n",
       "...                                   ...                               ...   \n",
       "4419                                    5                         13.600000   \n",
       "4420                                    6                         12.000000   \n",
       "4421                                    7                         14.912500   \n",
       "4422                                    5                         13.800000   \n",
       "4423                                    6                         11.666667   \n",
       "\n",
       "      Curricular units 1st sem (without evaluations)  \\\n",
       "0                                                  0   \n",
       "1                                                  0   \n",
       "2                                                  0   \n",
       "3                                                  0   \n",
       "4                                                  0   \n",
       "...                                              ...   \n",
       "4419                                               0   \n",
       "4420                                               0   \n",
       "4421                                               0   \n",
       "4422                                               0   \n",
       "4423                                               0   \n",
       "\n",
       "      Curricular units 2nd sem (credited)  \\\n",
       "0                                       0   \n",
       "1                                       0   \n",
       "2                                       0   \n",
       "3                                       0   \n",
       "4                                       0   \n",
       "...                                   ...   \n",
       "4419                                    0   \n",
       "4420                                    0   \n",
       "4421                                    0   \n",
       "4422                                    0   \n",
       "4423                                    0   \n",
       "\n",
       "      Curricular units 2nd sem (enrolled)  \\\n",
       "0                                     0.0   \n",
       "1                                     6.0   \n",
       "2                                     6.0   \n",
       "3                                     6.0   \n",
       "4                                     6.0   \n",
       "...                                   ...   \n",
       "4419                                  6.0   \n",
       "4420                                  6.0   \n",
       "4421                                  8.0   \n",
       "4422                                  5.0   \n",
       "4423                                  6.0   \n",
       "\n",
       "      Curricular units 2nd sem (evaluations)  \\\n",
       "0                                          0   \n",
       "1                                          6   \n",
       "2                                          0   \n",
       "3                                         10   \n",
       "4                                          6   \n",
       "...                                      ...   \n",
       "4419                                       8   \n",
       "4420                                       6   \n",
       "4421                                       9   \n",
       "4422                                       6   \n",
       "4423                                       6   \n",
       "\n",
       "      Curricular units 2nd sem (approved)  Curricular units 2nd sem (grade)  \\\n",
       "0                                       0                          0.000000   \n",
       "1                                       6                         13.666667   \n",
       "2                                       0                          0.000000   \n",
       "3                                       5                         12.400000   \n",
       "4                                       6                         13.000000   \n",
       "...                                   ...                               ...   \n",
       "4419                                    5                         12.666667   \n",
       "4420                                    2                         11.000000   \n",
       "4421                                    1                         13.500000   \n",
       "4422                                    5                         12.000000   \n",
       "4423                                    6                         13.000000   \n",
       "\n",
       "      Curricular units 2nd sem (without evaluations)  Unemployment rate  \\\n",
       "0                                                  0               10.8   \n",
       "1                                                  0               13.9   \n",
       "2                                                  0               10.8   \n",
       "3                                                  0                9.4   \n",
       "4                                                  0               13.9   \n",
       "...                                              ...                ...   \n",
       "4419                                               0               15.5   \n",
       "4420                                               0               11.1   \n",
       "4421                                               0               13.9   \n",
       "4422                                               0                9.4   \n",
       "4423                                               0               12.7   \n",
       "\n",
       "      Inflation rate   GDP    Target  \n",
       "0                1.4  1.74   Dropout  \n",
       "1               -0.3  0.79  Graduate  \n",
       "2                1.4  1.74   Dropout  \n",
       "3               -0.8 -3.12  Graduate  \n",
       "4               -0.3  0.79  Graduate  \n",
       "...              ...   ...       ...  \n",
       "4419             2.8 -4.06  Graduate  \n",
       "4420             0.6  2.02   Dropout  \n",
       "4421            -0.3  0.79   Dropout  \n",
       "4422            -0.8 -3.12  Graduate  \n",
       "4423             3.7 -1.70  Graduate  \n",
       "\n",
       "[4424 rows x 37 columns]"
      ]
     },
     "execution_count": 6,
     "metadata": {},
     "output_type": "execute_result"
    }
   ],
   "source": [
    "df"
   ]
  },
  {
   "cell_type": "markdown",
   "id": "b0332e96-f7d0-4859-a2ad-39d91b2e49fe",
   "metadata": {},
   "source": [
    "Now that is done, I am going to do some simple renaming"
   ]
  },
  {
   "cell_type": "code",
   "execution_count": 55,
   "id": "f984224e-393d-4070-b00c-3f380c517847",
   "metadata": {},
   "outputs": [],
   "source": [
    "df.rename(columns={\n",
    "    'Marital status': 'marital_status',\n",
    "    'Application mode': 'application_mode',\n",
    "    'Application order': 'application_order',\n",
    "    'Course': 'course',\n",
    "    'Daytime/evening attendance': 'attendance_type',\n",
    "    'Previous qualification': 'prev_qualification',\n",
    "    'Previous qualification (grade)': 'prev_qualification_grade',\n",
    "    'Nacionality': 'nationality', \n",
    "    'Mother\\'s qualification': 'mother_qualification', \n",
    "    'Father\\'s qualification': 'father_qualification',\n",
    "    'Mother\\'s occupation': 'mother_occupation',\n",
    "    'Father\\'s occupation': 'father_occupation',\n",
    "    'Admission grade': 'admission_grade',\n",
    "    'Displaced': 'displaced',\n",
    "    'Educational special needs': 'special_needs',\n",
    "    'Debtor': 'debtor',\n",
    "    'Tuition fees up to date': 'fees_up_to_date',\n",
    "    'Gender': 'gender',\n",
    "    'Scholarship holder': 'scholarship_holder',\n",
    "    'Age at enrollment': 'age_at_enrollment',\n",
    "    'International': 'international',\n",
    "    'Curricular units 1st sem (credited)': 'cu_1st_sem_credited',\n",
    "    'Curricular units 1st sem (enrolled)': 'cu_1st_sem_enrolled',\n",
    "    'Curricular units 1st sem (evaluations)': 'cu_1st_sem_evaluations',\n",
    "    'Curricular units 1st sem (approved)': 'cu_1st_sem_approved',\n",
    "    'Curricular units 1st sem (grade)': 'cu_1st_sem_grade',\n",
    "    'Curricular units 1st sem (without evaluations)': 'cu_1st_sem_no_evals',\n",
    "    'Curricular units 2nd sem (credited)': 'cu_2nd_sem_credited',\n",
    "    'Curricular units 2nd sem (enrolled)': 'cu_2nd_sem_enrolled',\n",
    "    'Curricular units 2nd sem (evaluations)': 'cu_2nd_sem_evaluations',\n",
    "    'Curricular units 2nd sem (approved)': 'cu_2nd_sem_approved',\n",
    "    'Curricular units 2nd sem (grade)': 'cu_2nd_sem_grade',\n",
    "    'Curricular units 2nd sem (without evaluations)': 'cu_2nd_sem_no_evals',\n",
    "    'Unemployment rate': 'unemployment_rate',\n",
    "    'Inflation rate': 'inflation_rate',\n",
    "    'GDP': 'gdp',\n",
    "    'Target': 'target'\n",
    "    \n",
    "}, inplace=True)"
   ]
  },
  {
   "cell_type": "markdown",
   "id": "dadfd2a0-ed99-4994-9c4c-22b346328d94",
   "metadata": {},
   "source": [
    "I can see now that there are 37 features, which should indicate an overall richer description. \n",
    "I can also see that with 4424 observations, I can train my model better but computational power should be considered."
   ]
  },
  {
   "cell_type": "code",
   "execution_count": 56,
   "id": "e679811d-766f-469f-9b1b-22f524e46e7e",
   "metadata": {},
   "outputs": [
    {
     "data": {
      "text/plain": [
       "marital_status              0\n",
       "application_mode            0\n",
       "application_order           0\n",
       "course                      0\n",
       "attendance_type             0\n",
       "prev_qualification          0\n",
       "prev_qualification_grade    0\n",
       "nationality                 0\n",
       "mother_qualification        0\n",
       "father_qualification        0\n",
       "mother_occupation           0\n",
       "father_occupation           0\n",
       "admission_grade             0\n",
       "displaced                   0\n",
       "special_needs               0\n",
       "debtor                      0\n",
       "fees_up_to_date             0\n",
       "gender                      0\n",
       "scholarship_holder          0\n",
       "age_at_enrollment           0\n",
       "international               0\n",
       "cu_1st_sem_credited         0\n",
       "cu_1st_sem_enrolled         0\n",
       "cu_1st_sem_evaluations      0\n",
       "cu_1st_sem_approved         0\n",
       "cu_1st_sem_grade            0\n",
       "cu_1st_sem_no_evals         0\n",
       "cu_2nd_sem_credited         0\n",
       "cu_2nd_sem_enrolled         0\n",
       "cu_2nd_sem_evaluations      0\n",
       "cu_2nd_sem_approved         0\n",
       "cu_2nd_sem_grade            0\n",
       "cu_2nd_sem_no_evals         0\n",
       "unemployment_rate           0\n",
       "inflation_rate              0\n",
       "gdp                         0\n",
       "target                      0\n",
       "dtype: int64"
      ]
     },
     "execution_count": 56,
     "metadata": {},
     "output_type": "execute_result"
    }
   ],
   "source": [
    "df.isnull().sum()"
   ]
  },
  {
   "cell_type": "markdown",
   "id": "bbaf824c-7ecd-41b4-b709-d1120500d35c",
   "metadata": {},
   "source": [
    "With so few null values, I will choose to drop rather than impute. Then check. \n",
    "Also a good to double check my renaming."
   ]
  },
  {
   "cell_type": "code",
   "execution_count": 57,
   "id": "00917080-9746-4e83-b963-be02b23eb7d1",
   "metadata": {},
   "outputs": [
    {
     "name": "stdout",
     "output_type": "stream",
     "text": [
      "marital_status              0\n",
      "application_mode            0\n",
      "application_order           0\n",
      "course                      0\n",
      "attendance_type             0\n",
      "prev_qualification          0\n",
      "prev_qualification_grade    0\n",
      "nationality                 0\n",
      "mother_qualification        0\n",
      "father_qualification        0\n",
      "mother_occupation           0\n",
      "father_occupation           0\n",
      "admission_grade             0\n",
      "displaced                   0\n",
      "special_needs               0\n",
      "debtor                      0\n",
      "fees_up_to_date             0\n",
      "gender                      0\n",
      "scholarship_holder          0\n",
      "age_at_enrollment           0\n",
      "international               0\n",
      "cu_1st_sem_credited         0\n",
      "cu_1st_sem_enrolled         0\n",
      "cu_1st_sem_evaluations      0\n",
      "cu_1st_sem_approved         0\n",
      "cu_1st_sem_grade            0\n",
      "cu_1st_sem_no_evals         0\n",
      "cu_2nd_sem_credited         0\n",
      "cu_2nd_sem_enrolled         0\n",
      "cu_2nd_sem_evaluations      0\n",
      "cu_2nd_sem_approved         0\n",
      "cu_2nd_sem_grade            0\n",
      "cu_2nd_sem_no_evals         0\n",
      "unemployment_rate           0\n",
      "inflation_rate              0\n",
      "gdp                         0\n",
      "target                      0\n",
      "dtype: int64\n"
     ]
    }
   ],
   "source": [
    "df.dropna(axis=0,inplace=True)\n",
    "\n",
    "how = 'any'\n",
    "how = 'all' \n",
    "\n",
    "print(df.isnull().sum())"
   ]
  },
  {
   "cell_type": "code",
   "execution_count": 58,
   "id": "14919acf-1096-44e0-86d8-ce5c4f9f217c",
   "metadata": {},
   "outputs": [
    {
     "name": "stdout",
     "output_type": "stream",
     "text": [
      "number of duplicate rows:  (0, 37)\n"
     ]
    }
   ],
   "source": [
    "duplicate_rows_df = df[df.duplicated()]\n",
    "print('number of duplicate rows: ', duplicate_rows_df.shape)"
   ]
  },
  {
   "cell_type": "markdown",
   "id": "ec799edf-5029-4eb7-8d29-15d6958ae408",
   "metadata": {},
   "source": [
    "I see there are no duplicates"
   ]
  },
  {
   "cell_type": "code",
   "execution_count": 59,
   "id": "c3fae7ed-fccb-455c-998d-60f226ef2791",
   "metadata": {},
   "outputs": [
    {
     "data": {
      "text/plain": [
       "marital_status              float64\n",
       "application_mode              int64\n",
       "application_order             int64\n",
       "course                      float64\n",
       "attendance_type               int64\n",
       "prev_qualification            int64\n",
       "prev_qualification_grade    float64\n",
       "nationality                   int64\n",
       "mother_qualification          int64\n",
       "father_qualification        float64\n",
       "mother_occupation             int64\n",
       "father_occupation             int64\n",
       "admission_grade             float64\n",
       "displaced                     int64\n",
       "special_needs                 int64\n",
       "debtor                      float64\n",
       "fees_up_to_date             float64\n",
       "gender                        int64\n",
       "scholarship_holder            int64\n",
       "age_at_enrollment           float64\n",
       "international               float64\n",
       "cu_1st_sem_credited         float64\n",
       "cu_1st_sem_enrolled           int64\n",
       "cu_1st_sem_evaluations        int64\n",
       "cu_1st_sem_approved           int64\n",
       "cu_1st_sem_grade            float64\n",
       "cu_1st_sem_no_evals           int64\n",
       "cu_2nd_sem_credited           int64\n",
       "cu_2nd_sem_enrolled         float64\n",
       "cu_2nd_sem_evaluations        int64\n",
       "cu_2nd_sem_approved           int64\n",
       "cu_2nd_sem_grade            float64\n",
       "cu_2nd_sem_no_evals           int64\n",
       "unemployment_rate           float64\n",
       "inflation_rate              float64\n",
       "gdp                         float64\n",
       "target                       object\n",
       "dtype: object"
      ]
     },
     "execution_count": 59,
     "metadata": {},
     "output_type": "execute_result"
    }
   ],
   "source": [
    "df.dtypes"
   ]
  },
  {
   "cell_type": "markdown",
   "id": "cad6a01f-1437-4d25-812b-6fee0554f3c1",
   "metadata": {},
   "source": [
    "I see there are errors in:\n",
    "    ['Displaced']\n",
    "    ['Tuition fees up to date']\n",
    "    ['Age at enrollment']\n",
    "    ['Curricular units 1st sem (credited)']\n",
    "    ['Marital Status']\n",
    "So I am going to investigate each feature further."
   ]
  },
  {
   "cell_type": "code",
   "execution_count": 60,
   "id": "b69c9d72-913d-43d3-9622-fe4e8e3ebb71",
   "metadata": {},
   "outputs": [
    {
     "name": "stdout",
     "output_type": "stream",
     "text": [
      "[1 0]\n"
     ]
    }
   ],
   "source": [
    "unique_values = df['displaced'].unique()\n",
    "print(unique_values)"
   ]
  },
  {
   "cell_type": "markdown",
   "id": "c3a7bc81-b84e-4f6f-b6de-05f591fb85d8",
   "metadata": {},
   "source": [
    "I see there's no mistakes so I will just convert the str to numeric"
   ]
  },
  {
   "cell_type": "code",
   "execution_count": 61,
   "id": "dc286dd0-4073-417e-8626-21657c876376",
   "metadata": {},
   "outputs": [],
   "source": [
    "df['displaced'] = df['displaced'].astype(int)"
   ]
  },
  {
   "cell_type": "code",
   "execution_count": 63,
   "id": "6be47eed-6236-41f4-82b4-19463a127565",
   "metadata": {},
   "outputs": [
    {
     "name": "stdout",
     "output_type": "stream",
     "text": [
      "[1. 0.]\n"
     ]
    }
   ],
   "source": [
    "unique_values = df['fees_up_to_date'].unique()\n",
    "print(unique_values)"
   ]
  },
  {
   "cell_type": "markdown",
   "id": "2d100fe7-f42a-4978-a63b-868f021f006b",
   "metadata": {},
   "source": [
    "I see the problem is the ?, so I just need to see how often it's present."
   ]
  },
  {
   "cell_type": "code",
   "execution_count": 64,
   "id": "1075bbf2-2ee8-4443-adfd-c3d4be2d077b",
   "metadata": {},
   "outputs": [
    {
     "name": "stdout",
     "output_type": "stream",
     "text": [
      "fees_up_to_date\n",
      "1.0    3886\n",
      "0.0     526\n",
      "Name: count, dtype: int64\n"
     ]
    }
   ],
   "source": [
    "question_mark_counts = df['fees_up_to_date'].value_counts()\n",
    "print(question_mark_counts)"
   ]
  },
  {
   "cell_type": "markdown",
   "id": "9f320aa5-efbb-4048-9781-0469cbd47ffc",
   "metadata": {},
   "source": [
    "As there is only one occurence of it I will just replace it with NaN using numpy"
   ]
  },
  {
   "cell_type": "code",
   "execution_count": 65,
   "id": "665a76f9-b73b-4f51-86a8-f33f6e4bcc02",
   "metadata": {},
   "outputs": [],
   "source": [
    "import numpy as np\n",
    "df['fees_up_to_date'] = pd.to_numeric(df['fees_up_to_date'], errors='coerce')"
   ]
  },
  {
   "cell_type": "code",
   "execution_count": 67,
   "id": "964117a1-092d-400a-b412-cea3dd759e25",
   "metadata": {},
   "outputs": [
    {
     "name": "stdout",
     "output_type": "stream",
     "text": [
      "[1. 0.]\n"
     ]
    }
   ],
   "source": [
    "unique_values = df['age_at_enrollment'].unique()\n",
    "print(unique_values)"
   ]
  },
  {
   "cell_type": "code",
   "execution_count": 68,
   "id": "3896f05e-bc87-4859-b815-c56cfc90bb7f",
   "metadata": {},
   "outputs": [
    {
     "name": "stdout",
     "output_type": "stream",
     "text": [
      "age_at_enrollment\n",
      "1.0    3886\n",
      "0.0     526\n",
      "Name: count, dtype: int64\n"
     ]
    }
   ],
   "source": [
    "UnKnown = df['age_at_enrollment'].value_counts()\n",
    "print(UnKnown)"
   ]
  },
  {
   "cell_type": "markdown",
   "id": "fbe9c807-0dbb-46c1-8199-a13b4ebe98df",
   "metadata": {},
   "source": [
    "As there is only 1 occurence I will again replace it with NaN"
   ]
  },
  {
   "cell_type": "code",
   "execution_count": 69,
   "id": "d193fd82-666b-4623-9d3f-22e567768eb2",
   "metadata": {},
   "outputs": [],
   "source": [
    "df['age_at_enrollment'] = pd.to_numeric(df['age_at_enrollment'], errors='coerce')"
   ]
  },
  {
   "cell_type": "code",
   "execution_count": 71,
   "id": "759432c1-870e-4266-b91d-7bf901efb64b",
   "metadata": {},
   "outputs": [
    {
     "name": "stdout",
     "output_type": "stream",
     "text": [
      "[ 0.  2.  3.  6.  7. 13.  4.  1.  5. 19. 11.  8. 10.  9. 15. 12. 14. 18.\n",
      " 17. 16. 20.]\n"
     ]
    }
   ],
   "source": [
    "unique_values = df['cu_1st_sem_credited'].unique()\n",
    "print(unique_values)"
   ]
  },
  {
   "cell_type": "code",
   "execution_count": 72,
   "id": "344355b8-274c-4ed7-9eee-6ce3e783979f",
   "metadata": {},
   "outputs": [
    {
     "name": "stdout",
     "output_type": "stream",
     "text": [
      "cu_1st_sem_credited\n",
      "0.0     3838\n",
      "2.0       94\n",
      "1.0       85\n",
      "3.0       68\n",
      "6.0       50\n",
      "4.0       47\n",
      "7.0       41\n",
      "5.0       40\n",
      "8.0       31\n",
      "9.0       27\n",
      "11.0      17\n",
      "10.0      15\n",
      "14.0      15\n",
      "13.0      13\n",
      "12.0      12\n",
      "15.0       5\n",
      "18.0       4\n",
      "17.0       3\n",
      "16.0       3\n",
      "19.0       2\n",
      "20.0       2\n",
      "Name: count, dtype: int64\n"
     ]
    }
   ],
   "source": [
    "Na = df['cu_1st_sem_credited'].value_counts()\n",
    "print (Na)"
   ]
  },
  {
   "cell_type": "markdown",
   "id": "98661948-8230-48fe-8217-9d93a142d21c",
   "metadata": {},
   "source": [
    "Same thing again, as it's only one occurencce just gonna swap it with NaN"
   ]
  },
  {
   "cell_type": "code",
   "execution_count": 74,
   "id": "82301519-eafc-4a92-804f-a123109c10ce",
   "metadata": {},
   "outputs": [],
   "source": [
    "df['cu_1st_sem_credited'] = pd.to_numeric(df['cu_1st_sem_credited'], errors='coerce')"
   ]
  },
  {
   "cell_type": "code",
   "execution_count": 75,
   "id": "993933bf-4e97-43bb-b958-3ee2d4585413",
   "metadata": {},
   "outputs": [
    {
     "name": "stdout",
     "output_type": "stream",
     "text": [
      "[1. 2. 4. 3. 5. 6.]\n"
     ]
    }
   ],
   "source": [
    "unique_values = df['marital_status'].unique()\n",
    "print(unique_values)"
   ]
  },
  {
   "cell_type": "code",
   "execution_count": 76,
   "id": "12fa41bc-c458-4c2c-b3fd-7486ccf3ce27",
   "metadata": {},
   "outputs": [
    {
     "name": "stdout",
     "output_type": "stream",
     "text": [
      "marital_status\n",
      "1.0    3909\n",
      "2.0     377\n",
      "4.0      91\n",
      "5.0      25\n",
      "6.0       6\n",
      "3.0       4\n",
      "Name: count, dtype: int64\n"
     ]
    }
   ],
   "source": [
    "q_mark = df['marital_status'].value_counts()\n",
    "print (q_mark)"
   ]
  },
  {
   "cell_type": "markdown",
   "id": "fce9c0c2-41c2-49ca-ba5e-0ec686fd0440",
   "metadata": {},
   "source": [
    "Exact same as before, 1 occurence so swap to NaN"
   ]
  },
  {
   "cell_type": "code",
   "execution_count": 77,
   "id": "9b7c0d08-915f-4af8-a1ed-14a2df6b9035",
   "metadata": {},
   "outputs": [],
   "source": [
    "df['marital_status'] = pd.to_numeric(df['marital_status'], errors='coerce')"
   ]
  },
  {
   "cell_type": "markdown",
   "id": "dc1ad45e-a11f-40d1-9e3d-9c4ffa98dbc7",
   "metadata": {},
   "source": [
    "Now Let's double check and make sure everything worked"
   ]
  },
  {
   "cell_type": "code",
   "execution_count": 78,
   "id": "adee903d-7b16-4d0a-ae8d-484fbdb2681d",
   "metadata": {},
   "outputs": [
    {
     "data": {
      "text/plain": [
       "marital_status              float64\n",
       "application_mode              int64\n",
       "application_order             int64\n",
       "course                      float64\n",
       "attendance_type               int64\n",
       "prev_qualification            int64\n",
       "prev_qualification_grade    float64\n",
       "nationality                   int64\n",
       "mother_qualification          int64\n",
       "father_qualification        float64\n",
       "mother_occupation             int64\n",
       "father_occupation             int64\n",
       "admission_grade             float64\n",
       "displaced                     int64\n",
       "special_needs                 int64\n",
       "debtor                      float64\n",
       "fees_up_to_date             float64\n",
       "gender                        int64\n",
       "scholarship_holder            int64\n",
       "age_at_enrollment           float64\n",
       "international               float64\n",
       "cu_1st_sem_credited         float64\n",
       "cu_1st_sem_enrolled           int64\n",
       "cu_1st_sem_evaluations        int64\n",
       "cu_1st_sem_approved           int64\n",
       "cu_1st_sem_grade            float64\n",
       "cu_1st_sem_no_evals           int64\n",
       "cu_2nd_sem_credited           int64\n",
       "cu_2nd_sem_enrolled         float64\n",
       "cu_2nd_sem_evaluations        int64\n",
       "cu_2nd_sem_approved           int64\n",
       "cu_2nd_sem_grade            float64\n",
       "cu_2nd_sem_no_evals           int64\n",
       "unemployment_rate           float64\n",
       "inflation_rate              float64\n",
       "gdp                         float64\n",
       "target                       object\n",
       "dtype: object"
      ]
     },
     "execution_count": 78,
     "metadata": {},
     "output_type": "execute_result"
    }
   ],
   "source": [
    "df.dtypes"
   ]
  },
  {
   "cell_type": "markdown",
   "id": "b7ca7d76-1f48-4123-aa67-4c6bd96e955d",
   "metadata": {},
   "source": [
    "Finally I am going to investigate the Target column and clean up any mistakes."
   ]
  },
  {
   "cell_type": "code",
   "execution_count": 79,
   "id": "aafcb61f-bced-48f9-ab43-5599ccf99cd7",
   "metadata": {},
   "outputs": [
    {
     "name": "stdout",
     "output_type": "stream",
     "text": [
      "['Dropout' 'Graduate' 'Enrolled']\n"
     ]
    }
   ],
   "source": [
    "Unique_values = df['target'].unique()\n",
    "print (Unique_values)"
   ]
  },
  {
   "cell_type": "code",
   "execution_count": 80,
   "id": "818b52c2-2bb3-40c8-bc24-56d741b85b87",
   "metadata": {},
   "outputs": [],
   "source": [
    "syntax = {\n",
    "    'Drop': 'Dropout',\n",
    "    'dropout': 'Dropout',\n",
    "    'graduate': 'Graduate',\n",
    "    'Grad': 'Graduate'}\n",
    "df['target'] = df['target'].replace(syntax)"
   ]
  },
  {
   "cell_type": "markdown",
   "id": "01cef67b-3a3d-467d-aa66-d5d82624ba0d",
   "metadata": {},
   "source": [
    "Now to just double check replacing the syntax error worked"
   ]
  },
  {
   "cell_type": "code",
   "execution_count": 81,
   "id": "31bacc9c-9fee-4576-9186-d254947bf208",
   "metadata": {},
   "outputs": [
    {
     "data": {
      "text/plain": [
       "array(['Dropout', 'Graduate', 'Enrolled'], dtype=object)"
      ]
     },
     "execution_count": 81,
     "metadata": {},
     "output_type": "execute_result"
    }
   ],
   "source": [
    "df['target'].unique()"
   ]
  },
  {
   "cell_type": "code",
   "execution_count": 111,
   "id": "88d6ae3c-377c-47e5-b527-874f52001d07",
   "metadata": {},
   "outputs": [],
   "source": [
    "%matplotlib inline\n",
    "import numpy as np\n",
    "import matplotlib.pyplot as plt\n",
    "import seaborn as sns; sns.set()"
   ]
  },
  {
   "cell_type": "code",
   "execution_count": 113,
   "id": "52b97ae9-dc46-4b09-a1da-69853625caa7",
   "metadata": {},
   "outputs": [
    {
     "ename": "NameError",
     "evalue": "name 'rng' is not defined",
     "output_type": "error",
     "traceback": [
      "\u001b[0;31m---------------------------------------------------------------------------\u001b[0m",
      "\u001b[0;31mNameError\u001b[0m                                 Traceback (most recent call last)",
      "Cell \u001b[0;32mIn[113], line 1\u001b[0m\n\u001b[0;32m----> 1\u001b[0m X \u001b[38;5;241m=\u001b[39m np\u001b[38;5;241m.\u001b[39mdot(rng\u001b[38;5;241m.\u001b[39mrand(\u001b[38;5;241m2\u001b[39m, \u001b[38;5;241m2\u001b[39m), rng\u001b[38;5;241m.\u001b[39mrandn(\u001b[38;5;241m2\u001b[39m, \u001b[38;5;241m200\u001b[39m))\u001b[38;5;241m.\u001b[39mT \n\u001b[1;32m      2\u001b[0m plt\u001b[38;5;241m.\u001b[39mscatter(X[:, \u001b[38;5;241m0\u001b[39m], X[:, \u001b[38;5;241m1\u001b[39m]) \n\u001b[1;32m      3\u001b[0m plt\u001b[38;5;241m.\u001b[39maxis(\u001b[38;5;124m'\u001b[39m\u001b[38;5;124mequal\u001b[39m\u001b[38;5;124m'\u001b[39m)\n",
      "\u001b[0;31mNameError\u001b[0m: name 'rng' is not defined"
     ]
    }
   ],
   "source": [
    "X = np.dot(rng.rand(2, 2), rng.randn(2, 200)).T \n",
    "plt.scatter(X[:, 0], X[:, 1]) \n",
    "plt.axis('equal');"
   ]
  },
  {
   "cell_type": "code",
   "execution_count": 112,
   "id": "3ebab25c-1b5b-4fc9-8a17-af135c6a4078",
   "metadata": {},
   "outputs": [
    {
     "ename": "NameError",
     "evalue": "name 'X' is not defined",
     "output_type": "error",
     "traceback": [
      "\u001b[0;31m---------------------------------------------------------------------------\u001b[0m",
      "\u001b[0;31mNameError\u001b[0m                                 Traceback (most recent call last)",
      "Cell \u001b[0;32mIn[112], line 3\u001b[0m\n\u001b[1;32m      1\u001b[0m \u001b[38;5;28;01mfrom\u001b[39;00m \u001b[38;5;21;01msklearn\u001b[39;00m\u001b[38;5;21;01m.\u001b[39;00m\u001b[38;5;21;01mdecomposition\u001b[39;00m \u001b[38;5;28;01mimport\u001b[39;00m PCA\n\u001b[1;32m      2\u001b[0m pca \u001b[38;5;241m=\u001b[39m PCA(n_components\u001b[38;5;241m=\u001b[39m\u001b[38;5;241m2\u001b[39m)\n\u001b[0;32m----> 3\u001b[0m pca\u001b[38;5;241m.\u001b[39mfit(X)\n\u001b[1;32m      4\u001b[0m PCA(copy\u001b[38;5;241m=\u001b[39m\u001b[38;5;28;01mTrue\u001b[39;00m, n_components\u001b[38;5;241m=\u001b[39m\u001b[38;5;241m2\u001b[39m, whiten\u001b[38;5;241m=\u001b[39m\u001b[38;5;28;01mFalse\u001b[39;00m)\n",
      "\u001b[0;31mNameError\u001b[0m: name 'X' is not defined"
     ]
    }
   ],
   "source": [
    "from sklearn.decomposition import PCA\n",
    "pca = PCA(n_components=2)\n",
    "pca.fit(X)\n",
    "PCA(copy=True, n_components=2, whiten=False)"
   ]
  },
  {
   "cell_type": "code",
   "execution_count": null,
   "id": "b6b3e295-dac4-4820-8e5d-c9a1c1944146",
   "metadata": {},
   "outputs": [],
   "source": []
  }
 ],
 "metadata": {
  "kernelspec": {
   "display_name": "Python 3 (ipykernel)",
   "language": "python",
   "name": "python3"
  },
  "language_info": {
   "codemirror_mode": {
    "name": "ipython",
    "version": 3
   },
   "file_extension": ".py",
   "mimetype": "text/x-python",
   "name": "python",
   "nbconvert_exporter": "python",
   "pygments_lexer": "ipython3",
   "version": "3.11.7"
  }
 },
 "nbformat": 4,
 "nbformat_minor": 5
}
